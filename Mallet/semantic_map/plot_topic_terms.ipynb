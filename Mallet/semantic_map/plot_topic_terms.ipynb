{
 "cells": [
  {
   "cell_type": "code",
   "execution_count": 2,
   "metadata": {},
   "outputs": [
    {
     "data": {
      "text/html": [
       "<div>\n",
       "<style scoped>\n",
       "    .dataframe tbody tr th:only-of-type {\n",
       "        vertical-align: middle;\n",
       "    }\n",
       "\n",
       "    .dataframe tbody tr th {\n",
       "        vertical-align: top;\n",
       "    }\n",
       "\n",
       "    .dataframe thead th {\n",
       "        text-align: right;\n",
       "    }\n",
       "</style>\n",
       "<table border=\"1\" class=\"dataframe\">\n",
       "  <thead>\n",
       "    <tr style=\"text-align: right;\">\n",
       "      <th></th>\n",
       "      <th>clean_text</th>\n",
       "      <th>tokenized_text</th>\n",
       "      <th>religion</th>\n",
       "      <th>spirituality</th>\n",
       "      <th>bigram_keyphrases</th>\n",
       "      <th>cleaned_bigrams</th>\n",
       "    </tr>\n",
       "  </thead>\n",
       "  <tbody>\n",
       "    <tr>\n",
       "      <th>0</th>\n",
       "      <td>attayyiby barackobama youtube the phrase that ...</td>\n",
       "      <td>['attayyiby', 'barackobama', 'youtube', 'phras...</td>\n",
       "      <td>True</td>\n",
       "      <td>False</td>\n",
       "      <td>[('away reality', 0.6107), ('reality religion'...</td>\n",
       "      <td>['away reality', 'reality religion', 'people r...</td>\n",
       "    </tr>\n",
       "  </tbody>\n",
       "</table>\n",
       "</div>"
      ],
      "text/plain": [
       "                                          clean_text  \\\n",
       "0  attayyiby barackobama youtube the phrase that ...   \n",
       "\n",
       "                                      tokenized_text  religion  spirituality  \\\n",
       "0  ['attayyiby', 'barackobama', 'youtube', 'phras...      True         False   \n",
       "\n",
       "                                   bigram_keyphrases  \\\n",
       "0  [('away reality', 0.6107), ('reality religion'...   \n",
       "\n",
       "                                     cleaned_bigrams  \n",
       "0  ['away reality', 'reality religion', 'people r...  "
      ]
     },
     "execution_count": 2,
     "metadata": {},
     "output_type": "execute_result"
    }
   ],
   "source": [
    "import pandas as pd\n",
    "from matplotlib import pyplot as plt\n",
    "import numpy as np\n",
    "import seaborn as sns\n",
    "from sklearn.feature_extraction.text import CountVectorizer\n",
    "from sklearn.neighbors import KernelDensity\n",
    "\n",
    "\n",
    "df = pd.read_csv('/Users/shtosti/Dropbox/study/UZH/FW23/SMA/topic_modelling_DEPO/data/with_clean_keybert_bigrams.csv')\n",
    "df.head(1)\n",
    "\n"
   ]
  },
  {
   "cell_type": "code",
   "execution_count": 3,
   "metadata": {},
   "outputs": [],
   "source": [
    "# Tokenize and preprocess text data\n",
    "vectorizer = CountVectorizer()\n",
    "X = vectorizer.fit_transform(df['clean_text'])\n",
    "\n",
    "# Get the vocabulary (words)\n",
    "words = vectorizer.get_feature_names_out()\n",
    "\n",
    "# Calculate word frequencies\n",
    "word_frequencies = X.sum(axis=0).A1"
   ]
  },
  {
   "cell_type": "code",
   "execution_count": 7,
   "metadata": {},
   "outputs": [
    {
     "name": "stderr",
     "output_type": "stream",
     "text": [
      "/var/folders/c_/d2jd7yn50y93c2sqyws6yswc0000gn/T/ipykernel_26539/4043533533.py:33: FutureWarning: \n",
      "\n",
      "`shade` is now deprecated in favor of `fill`; setting `fill=True`.\n",
      "This will become an error in seaborn v0.14.0; please update your code.\n",
      "\n",
      "  sns.kdeplot(x=data[:, 0], y=data[:, 1], cmap=\"Blues\", shade=True, levels=15)\n"
     ]
    },
    {
     "data": {
      "image/png": "[encoded data removed]",
      "text/plain": [
       "<Figure size 1000x800 with 1 Axes>"
      ]
     },
     "metadata": {},
     "output_type": "display_data"
    }
   ],
   "source": [
    "\n",
    "\n",
    "# Choose two words to visualize\n",
    "word1 = 'religion'\n",
    "word2 = 'spirituality'\n",
    "\n",
    "# Extract word indices\n",
    "word1_idx = vectorizer.vocabulary_[word1]\n",
    "word2_idx = vectorizer.vocabulary_[word2]\n",
    "\n",
    "# Create a 2D array with word frequencies for the selected words\n",
    "data = X[:, [word1_idx, word2_idx]].A\n",
    "\n",
    "# Apply KDE to the data\n",
    "kde = KernelDensity(bandwidth=1.0, kernel='gaussian')\n",
    "kde.fit(data)\n",
    "\n",
    "# Create a grid for visualization\n",
    "xmin, xmax = min(data[:, 0]), max(data[:, 0])\n",
    "ymin, ymax = min(data[:, 1]), max(data[:, 1])\n",
    "\n",
    "x, y = np.mgrid[xmin:xmax:100j, ymin:ymax:100j]\n",
    "positions = np.vstack([x.ravel(), y.ravel()])\n",
    "\n",
    "# Calculate the KDE values\n",
    "values = np.exp(kde.score_samples(positions.T))\n",
    "\n",
    "# Reshape the values back to the grid shape\n",
    "z = np.reshape(values, x.shape)\n",
    "\n",
    "# Create a KDE plot\n",
    "sns.set(style=\"white\")\n",
    "plt.figure(figsize=(10, 8))\n",
    "# sns.kdeplot(data[:, 0], data[:, 1], cmap=\"Blues\", shade=True, levels=15)\n",
    "sns.kdeplot(x=data[:, 0], y=data[:, 1], cmap=\"Blues\", shade=True, levels=15)\n",
    "plt.title(f'KDE Plot: {word1} vs {word2}')\n",
    "plt.xlabel(word1)\n",
    "plt.ylabel(word2)\n",
    "plt.show()"
   ]
  },
  {
   "cell_type": "code",
   "execution_count": 11,
   "metadata": {},
   "outputs": [
    {
     "ename": "ValueError",
     "evalue": "X has 2 features, but KernelDensity is expecting 200 features as input.",
     "output_type": "error",
     "traceback": [
      "\u001b[0;31m---------------------------------------------------------------------------\u001b[0m",
      "\u001b[0;31mValueError\u001b[0m                                Traceback (most recent call last)",
      "Cell \u001b[0;32mIn[11], line 27\u001b[0m\n\u001b[1;32m     24\u001b[0m positions \u001b[38;5;241m=\u001b[39m np\u001b[38;5;241m.\u001b[39mvstack([x\u001b[38;5;241m.\u001b[39mravel(), y\u001b[38;5;241m.\u001b[39mravel()])\n\u001b[1;32m     26\u001b[0m \u001b[38;5;66;03m# Calculate the KDE values\u001b[39;00m\n\u001b[0;32m---> 27\u001b[0m values \u001b[38;5;241m=\u001b[39m np\u001b[38;5;241m.\u001b[39mexp(\u001b[43mkde\u001b[49m\u001b[38;5;241;43m.\u001b[39;49m\u001b[43mscore_samples\u001b[49m\u001b[43m(\u001b[49m\u001b[43mpositions\u001b[49m\u001b[38;5;241;43m.\u001b[39;49m\u001b[43mT\u001b[49m\u001b[43m)\u001b[49m)\n\u001b[1;32m     29\u001b[0m \u001b[38;5;66;03m# Reshape the values back to the grid shape\u001b[39;00m\n\u001b[1;32m     30\u001b[0m z \u001b[38;5;241m=\u001b[39m np\u001b[38;5;241m.\u001b[39mreshape(values, x\u001b[38;5;241m.\u001b[39mshape)\n",
      "File \u001b[0;32m~/opt/anaconda3/envs/gephy/lib/python3.9/site-packages/sklearn/neighbors/_kde.py:265\u001b[0m, in \u001b[0;36mKernelDensity.score_samples\u001b[0;34m(self, X)\u001b[0m\n\u001b[1;32m    261\u001b[0m check_is_fitted(\u001b[39mself\u001b[39m)\n\u001b[1;32m    262\u001b[0m \u001b[39m# The returned density is normalized to the number of points.\u001b[39;00m\n\u001b[1;32m    263\u001b[0m \u001b[39m# For it to be a probability, we must scale it.  For this reason\u001b[39;00m\n\u001b[1;32m    264\u001b[0m \u001b[39m# we'll also scale atol.\u001b[39;00m\n\u001b[0;32m--> 265\u001b[0m X \u001b[39m=\u001b[39m \u001b[39mself\u001b[39;49m\u001b[39m.\u001b[39;49m_validate_data(X, order\u001b[39m=\u001b[39;49m\u001b[39m\"\u001b[39;49m\u001b[39mC\u001b[39;49m\u001b[39m\"\u001b[39;49m, dtype\u001b[39m=\u001b[39;49mnp\u001b[39m.\u001b[39;49mfloat64, reset\u001b[39m=\u001b[39;49m\u001b[39mFalse\u001b[39;49;00m)\n\u001b[1;32m    266\u001b[0m \u001b[39mif\u001b[39;00m \u001b[39mself\u001b[39m\u001b[39m.\u001b[39mtree_\u001b[39m.\u001b[39msample_weight \u001b[39mis\u001b[39;00m \u001b[39mNone\u001b[39;00m:\n\u001b[1;32m    267\u001b[0m     N \u001b[39m=\u001b[39m \u001b[39mself\u001b[39m\u001b[39m.\u001b[39mtree_\u001b[39m.\u001b[39mdata\u001b[39m.\u001b[39mshape[\u001b[39m0\u001b[39m]\n",
      "File \u001b[0;32m~/opt/anaconda3/envs/gephy/lib/python3.9/site-packages/sklearn/base.py:626\u001b[0m, in \u001b[0;36mBaseEstimator._validate_data\u001b[0;34m(self, X, y, reset, validate_separately, cast_to_ndarray, **check_params)\u001b[0m\n\u001b[1;32m    623\u001b[0m     out \u001b[39m=\u001b[39m X, y\n\u001b[1;32m    625\u001b[0m \u001b[39mif\u001b[39;00m \u001b[39mnot\u001b[39;00m no_val_X \u001b[39mand\u001b[39;00m check_params\u001b[39m.\u001b[39mget(\u001b[39m\"\u001b[39m\u001b[39mensure_2d\u001b[39m\u001b[39m\"\u001b[39m, \u001b[39mTrue\u001b[39;00m):\n\u001b[0;32m--> 626\u001b[0m     \u001b[39mself\u001b[39;49m\u001b[39m.\u001b[39;49m_check_n_features(X, reset\u001b[39m=\u001b[39;49mreset)\n\u001b[1;32m    628\u001b[0m \u001b[39mreturn\u001b[39;00m out\n",
      "File \u001b[0;32m~/opt/anaconda3/envs/gephy/lib/python3.9/site-packages/sklearn/base.py:415\u001b[0m, in \u001b[0;36mBaseEstimator._check_n_features\u001b[0;34m(self, X, reset)\u001b[0m\n\u001b[1;32m    412\u001b[0m     \u001b[39mreturn\u001b[39;00m\n\u001b[1;32m    414\u001b[0m \u001b[39mif\u001b[39;00m n_features \u001b[39m!=\u001b[39m \u001b[39mself\u001b[39m\u001b[39m.\u001b[39mn_features_in_:\n\u001b[0;32m--> 415\u001b[0m     \u001b[39mraise\u001b[39;00m \u001b[39mValueError\u001b[39;00m(\n\u001b[1;32m    416\u001b[0m         \u001b[39mf\u001b[39m\u001b[39m\"\u001b[39m\u001b[39mX has \u001b[39m\u001b[39m{\u001b[39;00mn_features\u001b[39m}\u001b[39;00m\u001b[39m features, but \u001b[39m\u001b[39m{\u001b[39;00m\u001b[39mself\u001b[39m\u001b[39m.\u001b[39m\u001b[39m__class__\u001b[39m\u001b[39m.\u001b[39m\u001b[39m__name__\u001b[39m\u001b[39m}\u001b[39;00m\u001b[39m \u001b[39m\u001b[39m\"\u001b[39m\n\u001b[1;32m    417\u001b[0m         \u001b[39mf\u001b[39m\u001b[39m\"\u001b[39m\u001b[39mis expecting \u001b[39m\u001b[39m{\u001b[39;00m\u001b[39mself\u001b[39m\u001b[39m.\u001b[39mn_features_in_\u001b[39m}\u001b[39;00m\u001b[39m features as input.\u001b[39m\u001b[39m\"\u001b[39m\n\u001b[1;32m    418\u001b[0m     )\n",
      "\u001b[0;31mValueError\u001b[0m: X has 2 features, but KernelDensity is expecting 200 features as input."
     ]
    }
   ],
   "source": [
    "import pandas as pd\n",
    "from matplotlib import pyplot as plt\n",
    "import numpy as np\n",
    "import seaborn as sns\n",
    "from sklearn.feature_extraction.text import CountVectorizer\n",
    "from sklearn.neighbors import KernelDensity\n",
    "\n",
    "# Load the dataset\n",
    "df = pd.read_csv('/Users/shtosti/Dropbox/study/UZH/FW23/SMA/topic_modelling_DEPO/data/with_clean_keybert_bigrams.csv')\n",
    "\n",
    "# Tokenize and preprocess text data\n",
    "vectorizer = CountVectorizer(max_features=200)  # Limit to the top 200 words\n",
    "X = vectorizer.fit_transform(df['clean_text'])\n",
    "\n",
    "# Apply KDE to the data\n",
    "kde = KernelDensity(bandwidth=1.0, kernel='gaussian')\n",
    "kde.fit(X.A)\n",
    "\n",
    "# Create a grid for visualization\n",
    "xmin, xmax = np.min(X.A), np.max(X.A)\n",
    "ymin, ymax = np.min(X.A), np.max(X.A)\n",
    "\n",
    "x, y = np.mgrid[xmin:xmax:100j, ymin:ymax:100j]\n",
    "positions = np.vstack([x.ravel(), y.ravel()])\n",
    "\n",
    "# Calculate the KDE values\n",
    "values = np.exp(kde.score_samples(positions.T))\n",
    "\n",
    "# Reshape the values back to the grid shape\n",
    "z = np.reshape(values, x.shape)\n",
    "\n",
    "# Create a KDE plot\n",
    "sns.set(style=\"white\")\n",
    "plt.figure(figsize=(10, 8))\n",
    "sns.kdeplot(data=X.A.ravel(), cmap=\"Blues\", shade=True, levels=15)\n",
    "plt.title('KDE Plot: Top 200 Words')\n",
    "plt.xlabel('Words')\n",
    "plt.show()\n"
   ]
  },
  {
   "cell_type": "code",
   "execution_count": null,
   "metadata": {},
   "outputs": [],
   "source": []
  }
 ],
 "metadata": {
  "kernelspec": {
   "display_name": "Python 3.9.13 ('gephy')",
   "language": "python",
   "name": "python3"
  },
  "language_info": {
   "codemirror_mode": {
    "name": "ipython",
    "version": 3
   },
   "file_extension": ".py",
   "mimetype": "text/x-python",
   "name": "python",
   "nbconvert_exporter": "python",
   "pygments_lexer": "ipython3",
   "version": "3.9.13"
  },
  "orig_nbformat": 4,
  "vscode": {
   "interpreter": {
    "hash": "7bdca42ed8c9d76dff38fe919376a87786ddd4677b54fd83119e969c4b569fb2"
   }
  }
 },
 "nbformat": 4,
 "nbformat_minor": 2
}
