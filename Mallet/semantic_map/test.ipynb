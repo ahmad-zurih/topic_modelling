{
 "cells": [
  {
   "cell_type": "code",
   "execution_count": null,
   "metadata": {},
   "outputs": [],
   "source": [
    "from gensim.models import LdaModel\n",
    "from textplot.textplot import kernel_density_plot\n",
    "\n",
    "\n",
    "# Load the saved LDA model\n",
    "model_path = 'path_to_your_model_file'\n",
    "lda_model = LdaModel.load(model_path)\n",
    "\n",
    "# Get the topics and their terms\n",
    "topics = lda_model.show_topics()\n",
    "\n",
    "# Extract terms from the topics\n",
    "all_terms = [word for _, topic_terms in topics for word, _ in lda_model.show_topic(topic_terms)]\n",
    "\n",
    "# Choose the top 200 terms based on some criterion (e.g., highest probability)\n",
    "top_terms = sorted(all_terms, key=lambda x: lda_model.id2word.doc2bow([x])[0][1], reverse=True)[:200]\n",
    "\n",
    "# Calculate kernel density\n",
    "kde_data = kernel_density_plot(lda_model, top_terms)\n",
    "\n",
    "# Visualize the kernel density in a semantic map using UMAP\n",
    "cluster_plot(lda_model, top_terms, method='umap', kde_data=kde_data)\n",
    "\n"
   ]
  },
  {
   "cell_type": "code",
   "execution_count": null,
   "metadata": {},
   "outputs": [],
   "source": []
  }
 ],
 "metadata": {
  "kernelspec": {
   "display_name": "Python 3.9.13 ('base')",
   "language": "python",
   "name": "python3"
  },
  "language_info": {
   "name": "python",
   "version": "3.9.13"
  },
  "orig_nbformat": 4,
  "vscode": {
   "interpreter": {
    "hash": "31f8b047b5efd62ff81a15683119c631bce107ca4971e76d2dee6d5644496818"
   }
  }
 },
 "nbformat": 4,
 "nbformat_minor": 2
}
